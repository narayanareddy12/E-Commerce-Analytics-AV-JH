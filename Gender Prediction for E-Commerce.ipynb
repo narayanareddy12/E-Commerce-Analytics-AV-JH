{
 "cells": [
  {
   "cell_type": "markdown",
   "metadata": {},
   "source": [
    "# JanataHack - E-Commerce Analytics ML Hackathon"
   ]
  },
  {
   "cell_type": "markdown",
   "metadata": {},
   "source": [
    "## Import Packages"
   ]
  },
  {
   "cell_type": "code",
   "execution_count": 19,
   "metadata": {},
   "outputs": [],
   "source": [
    "import numpy as np\n",
    "import pandas as pd\n",
    "import matplotlib.pyplot as plt\n",
    "import seaborn as sns\n",
    "import time\n",
    "import warnings\n",
    "warnings.simplefilter('ignore')\n",
    "\n",
    "from sklearn.preprocessing import LabelEncoder\n",
    "from sklearn.model_selection import train_test_split\n",
    "from sklearn.metrics import accuracy_score\n",
    "\n",
    "from sklearn.linear_model import LogisticRegression\n",
    "from sklearn.tree import DecisionTreeClassifier,ExtraTreeClassifier\n",
    "from sklearn.ensemble import AdaBoostClassifier,RandomForestClassifier,StackingClassifier,VotingClassifier,BaggingClassifier,ExtraTreesClassifier,GradientBoostingClassifier,BaggingClassifier,ExtraTreesClassifier\n",
    "\n",
    "from sklearn.neighbors import KNeighborsClassifier\n",
    "from sklearn.svm import SVC\n",
    "from sklearn.model_selection import cross_val_score\n",
    "\n",
    "import xgboost as xgb\n",
    "import lightgbm as lgb\n",
    "import catboost as cat"
   ]
  },
  {
   "cell_type": "markdown",
   "metadata": {},
   "source": [
    "## Import Dataset"
   ]
  },
  {
   "cell_type": "code",
   "execution_count": 3,
   "metadata": {},
   "outputs": [],
   "source": [
    "train = pd.read_csv(\"train_8wry4cB.csv\")\n",
    "test = pd.read_csv(\"test_Yix80N0.csv\")\n",
    "sample = pd.read_csv(\"sample_submission_opxHi4g.csv\")"
   ]
  },
  {
   "cell_type": "code",
   "execution_count": 4,
   "metadata": {},
   "outputs": [
    {
     "name": "stdout",
     "output_type": "stream",
     "text": [
      "(10500, 5) (4500, 4)\n"
     ]
    }
   ],
   "source": [
    "print(train.shape,test.shape)"
   ]
  },
  {
   "cell_type": "code",
   "execution_count": 5,
   "metadata": {},
   "outputs": [
    {
     "data": {
      "text/html": [
       "<div>\n",
       "<style scoped>\n",
       "    .dataframe tbody tr th:only-of-type {\n",
       "        vertical-align: middle;\n",
       "    }\n",
       "\n",
       "    .dataframe tbody tr th {\n",
       "        vertical-align: top;\n",
       "    }\n",
       "\n",
       "    .dataframe thead th {\n",
       "        text-align: right;\n",
       "    }\n",
       "</style>\n",
       "<table border=\"1\" class=\"dataframe\">\n",
       "  <thead>\n",
       "    <tr style=\"text-align: right;\">\n",
       "      <th></th>\n",
       "      <th>session_id</th>\n",
       "      <th>startTime</th>\n",
       "      <th>endTime</th>\n",
       "      <th>ProductList</th>\n",
       "      <th>gender</th>\n",
       "    </tr>\n",
       "  </thead>\n",
       "  <tbody>\n",
       "    <tr>\n",
       "      <td>0</td>\n",
       "      <td>u16159</td>\n",
       "      <td>15/12/14 18:11</td>\n",
       "      <td>15/12/14 18:12</td>\n",
       "      <td>A00002/B00003/C00006/D28435/;A00002/B00003/C00...</td>\n",
       "      <td>female</td>\n",
       "    </tr>\n",
       "    <tr>\n",
       "      <td>1</td>\n",
       "      <td>u10253</td>\n",
       "      <td>16/12/14 14:35</td>\n",
       "      <td>16/12/14 14:41</td>\n",
       "      <td>A00001/B00009/C00031/D29404/;A00001/B00009/C00...</td>\n",
       "      <td>male</td>\n",
       "    </tr>\n",
       "    <tr>\n",
       "      <td>2</td>\n",
       "      <td>u19037</td>\n",
       "      <td>01/12/14 15:58</td>\n",
       "      <td>01/12/14 15:58</td>\n",
       "      <td>A00002/B00001/C00020/D16944/</td>\n",
       "      <td>female</td>\n",
       "    </tr>\n",
       "    <tr>\n",
       "      <td>3</td>\n",
       "      <td>u14556</td>\n",
       "      <td>23/11/14 2:57</td>\n",
       "      <td>23/11/14 3:00</td>\n",
       "      <td>A00002/B00004/C00018/D10284/;A00002/B00004/C00...</td>\n",
       "      <td>female</td>\n",
       "    </tr>\n",
       "    <tr>\n",
       "      <td>4</td>\n",
       "      <td>u24295</td>\n",
       "      <td>17/12/14 16:44</td>\n",
       "      <td>17/12/14 16:46</td>\n",
       "      <td>A00001/B00001/C00012/D30805/;A00001/B00001/C00...</td>\n",
       "      <td>male</td>\n",
       "    </tr>\n",
       "  </tbody>\n",
       "</table>\n",
       "</div>"
      ],
      "text/plain": [
       "  session_id       startTime         endTime  \\\n",
       "0     u16159  15/12/14 18:11  15/12/14 18:12   \n",
       "1     u10253  16/12/14 14:35  16/12/14 14:41   \n",
       "2     u19037  01/12/14 15:58  01/12/14 15:58   \n",
       "3     u14556   23/11/14 2:57   23/11/14 3:00   \n",
       "4     u24295  17/12/14 16:44  17/12/14 16:46   \n",
       "\n",
       "                                         ProductList  gender  \n",
       "0  A00002/B00003/C00006/D28435/;A00002/B00003/C00...  female  \n",
       "1  A00001/B00009/C00031/D29404/;A00001/B00009/C00...    male  \n",
       "2                       A00002/B00001/C00020/D16944/  female  \n",
       "3  A00002/B00004/C00018/D10284/;A00002/B00004/C00...  female  \n",
       "4  A00001/B00001/C00012/D30805/;A00001/B00001/C00...    male  "
      ]
     },
     "execution_count": 5,
     "metadata": {},
     "output_type": "execute_result"
    }
   ],
   "source": [
    "train.head()"
   ]
  },
  {
   "cell_type": "code",
   "execution_count": 6,
   "metadata": {},
   "outputs": [
    {
     "data": {
      "text/html": [
       "<div>\n",
       "<style scoped>\n",
       "    .dataframe tbody tr th:only-of-type {\n",
       "        vertical-align: middle;\n",
       "    }\n",
       "\n",
       "    .dataframe tbody tr th {\n",
       "        vertical-align: top;\n",
       "    }\n",
       "\n",
       "    .dataframe thead th {\n",
       "        text-align: right;\n",
       "    }\n",
       "</style>\n",
       "<table border=\"1\" class=\"dataframe\">\n",
       "  <thead>\n",
       "    <tr style=\"text-align: right;\">\n",
       "      <th></th>\n",
       "      <th>session_id</th>\n",
       "      <th>startTime</th>\n",
       "      <th>endTime</th>\n",
       "      <th>ProductList</th>\n",
       "    </tr>\n",
       "  </thead>\n",
       "  <tbody>\n",
       "    <tr>\n",
       "      <td>0</td>\n",
       "      <td>u12112</td>\n",
       "      <td>08/12/14 13:36</td>\n",
       "      <td>08/12/14 13:36</td>\n",
       "      <td>A00002/B00003/C00006/D19956/</td>\n",
       "    </tr>\n",
       "    <tr>\n",
       "      <td>1</td>\n",
       "      <td>u19725</td>\n",
       "      <td>19/12/14 13:52</td>\n",
       "      <td>19/12/14 13:52</td>\n",
       "      <td>A00002/B00005/C00067/D02026/</td>\n",
       "    </tr>\n",
       "    <tr>\n",
       "      <td>2</td>\n",
       "      <td>u11795</td>\n",
       "      <td>01/12/14 10:44</td>\n",
       "      <td>01/12/14 10:44</td>\n",
       "      <td>A00002/B00002/C00004/D12538/</td>\n",
       "    </tr>\n",
       "    <tr>\n",
       "      <td>3</td>\n",
       "      <td>u22639</td>\n",
       "      <td>08/12/14 20:19</td>\n",
       "      <td>08/12/14 20:22</td>\n",
       "      <td>A00002/B00003/C00079/D22781/;A00002/B00003/C00...</td>\n",
       "    </tr>\n",
       "    <tr>\n",
       "      <td>4</td>\n",
       "      <td>u18034</td>\n",
       "      <td>15/12/14 19:33</td>\n",
       "      <td>15/12/14 19:33</td>\n",
       "      <td>A00002/B00001/C00010/D23419/</td>\n",
       "    </tr>\n",
       "  </tbody>\n",
       "</table>\n",
       "</div>"
      ],
      "text/plain": [
       "  session_id       startTime         endTime  \\\n",
       "0     u12112  08/12/14 13:36  08/12/14 13:36   \n",
       "1     u19725  19/12/14 13:52  19/12/14 13:52   \n",
       "2     u11795  01/12/14 10:44  01/12/14 10:44   \n",
       "3     u22639  08/12/14 20:19  08/12/14 20:22   \n",
       "4     u18034  15/12/14 19:33  15/12/14 19:33   \n",
       "\n",
       "                                         ProductList  \n",
       "0                       A00002/B00003/C00006/D19956/  \n",
       "1                       A00002/B00005/C00067/D02026/  \n",
       "2                       A00002/B00002/C00004/D12538/  \n",
       "3  A00002/B00003/C00079/D22781/;A00002/B00003/C00...  \n",
       "4                       A00002/B00001/C00010/D23419/  "
      ]
     },
     "execution_count": 6,
     "metadata": {},
     "output_type": "execute_result"
    }
   ],
   "source": [
    "test.head()"
   ]
  },
  {
   "cell_type": "code",
   "execution_count": 7,
   "metadata": {},
   "outputs": [
    {
     "data": {
      "text/plain": [
       "female    8192\n",
       "male      2308\n",
       "Name: gender, dtype: int64"
      ]
     },
     "execution_count": 7,
     "metadata": {},
     "output_type": "execute_result"
    }
   ],
   "source": [
    "train['gender'].value_counts()"
   ]
  },
  {
   "cell_type": "code",
   "execution_count": 11,
   "metadata": {},
   "outputs": [
    {
     "data": {
      "text/plain": [
       "'A00002/B00003/C00006/D28435/;A00002/B00003/C00006/D02554/;A00002/B00003/C00006/D28436/;A00002/B00003/C00006/D28437/'"
      ]
     },
     "execution_count": 11,
     "metadata": {},
     "output_type": "execute_result"
    }
   ],
   "source": [
    "train['ProductList'][0]"
   ]
  },
  {
   "cell_type": "code",
   "execution_count": 12,
   "metadata": {},
   "outputs": [
    {
     "data": {
      "text/plain": [
       "'A00001/B00009/C00031/D29404/;A00001/B00009/C00031/D02617/;A00001/B00009/C00031/D29407/;A00001/B00009/C00031/D29410/;A00001/B00009/C00031/D29411/;A00001/B00009/C00031/D25444/;A00001/B00009/C00031/D29418/'"
      ]
     },
     "execution_count": 12,
     "metadata": {},
     "output_type": "execute_result"
    }
   ],
   "source": [
    "train['ProductList'][1]"
   ]
  },
  {
   "cell_type": "markdown",
   "metadata": {},
   "source": [
    "# Note\n",
    "### From this we can observe that the initial three codes which are starting with A, B, C are same.\n",
    "### In D the first three digits of the codes are same in most of the records.\n",
    "\n",
    "### Make features as A code, B code, C, code and D code"
   ]
  },
  {
   "cell_type": "markdown",
   "metadata": {},
   "source": [
    "For Ex: \n",
    "    In 'A00001/B00009/C00031/D29404/\n",
    "- A00001 as A feature\n",
    "- B00009 as B feature\n",
    "- C00031 as C feature\n",
    "- D294 as D feature"
   ]
  },
  {
   "cell_type": "code",
   "execution_count": 13,
   "metadata": {},
   "outputs": [],
   "source": [
    "# This is a function get the list of only D codes lists \n",
    "def list_items(x):\n",
    "    items = []\n",
    "    for i in x.split(';'):\n",
    "        items.append(i.split('/')[-2])\n",
    "    return items"
   ]
  },
  {
   "cell_type": "code",
   "execution_count": 14,
   "metadata": {},
   "outputs": [],
   "source": [
    "# To get the the D code which is most frequent, in case of more than one unique code\n",
    "def most_frequent(List): \n",
    "    return max(set(List), key = List.count)\n",
    "\n",
    "# This function to split the D function \n",
    "def items_new_list(x):\n",
    "    new_items = []\n",
    "    for i in x:\n",
    "        new_items.append(i[:4])\n",
    "    return most_frequent(new_items)"
   ]
  },
  {
   "cell_type": "markdown",
   "metadata": {},
   "source": [
    "For Ex: \n",
    "   - 'A00001/B00009/C00031/D29404/;\n",
    "     -  A00001/B00009/C00031/D02617/;\n",
    "     -  A00001/B00009/C00031/D29407/;\n",
    "     -  A00001/B00009/C00031/D29410/;\n",
    "     -  A00001/B00009/C00031/D29411/;\n",
    "     -  A00001/B00009/C00031/D25444/;\n",
    "     -  A00001/B00009/C00031/D29418/'\n",
    "      \n",
    "      In this D codes are [ D294, D026, D294, D294, D294, D254, D294]\n",
    "      most frequent one is selected which is D294 as D feature"
   ]
  },
  {
   "cell_type": "markdown",
   "metadata": {},
   "source": [
    "# Feature Engineering"
   ]
  },
  {
   "cell_type": "code",
   "execution_count": 15,
   "metadata": {},
   "outputs": [],
   "source": [
    "# Function for preprocessing the features and to create new features\n",
    "def preprocessing_data(data):\n",
    "    \n",
    "    # No of products in the Productlist \n",
    "    data['No_of_products'] = data['ProductList'].apply(lambda x: len(x.split(';')))\n",
    "    \n",
    "    # A,B,C features which r the codes \n",
    "    data['A'] = data['ProductList'].apply(lambda x: x.split(';')[0].split('/')[0])\n",
    "    data['B'] = data['ProductList'].apply(lambda x: x.split(';')[0].split('/')[1])\n",
    "    data['C'] = data['ProductList'].apply(lambda x: x.split(';')[0].split('/')[2])\n",
    "    \n",
    "    # start date without time\n",
    "    data['sess_date'] = data['startTime'].apply(lambda x: x.split(' ')[0])\n",
    "    \n",
    "    # start date and end date without time\n",
    "    data['sess_start_date'] = data['startTime'].apply(lambda x: x.split(' ')[0])\n",
    "    data['sess_end_date'] = data['endTime'].apply(lambda x: x.split(' ')[0])\n",
    "    \n",
    "    # start and end time only\n",
    "    data['sess_start_time'] = data['startTime'].apply(lambda x: x.split(' ')[1])\n",
    "    data['sess_end_time'] = data['endTime'].apply(lambda x: x.split(' ')[1])\n",
    "    \n",
    "    data['sess_temp'] = data['sess_start_time'].apply(lambda x: time.strptime(x, \"%H:%M\"))\n",
    "    \n",
    "    data['sess_start_date'] = data['sess_start_date'].apply(lambda x: x.split('/')[0]+'/'+x.split('/')[1]+'/'+'20'+x.split('/')[2])\n",
    "    data['sess_end_date'] = data['sess_end_date'].apply(lambda x: x.split('/')[0]+'/'+x.split('/')[1]+'/'+'20'+x.split('/')[2])\n",
    "    \n",
    "    # start day,month,year features\n",
    "    data['sess_day'] = data['sess_date'].apply(lambda x: int(x.split('/')[0]))\n",
    "    data['sess_month'] = data['sess_date'].apply(lambda x: int(x.split('/')[1]))\n",
    "    data['sess_year']  = data['sess_date'].apply(lambda x: int(x.split('/')[2]))\n",
    "    \n",
    "    data['sess_start_time'] = data[['sess_start_date','sess_start_time']].apply(lambda x: x[0]+\" \"+x[1],axis=1)\n",
    "    data['sess_end_time'] = data[['sess_end_date','sess_end_time']].apply(lambda x: x[0]+\" \"+x[1],axis=1)\n",
    "    \n",
    "    #data['sess_start_time'] = data['sess_start_time'].apply(lambda x: time.strptime(x, \"%H:%M\"))\n",
    "    #data['sess_end_time'] = data['sess_end_time'].apply(lambda x: time.strptime(x, \"%H:%M\"))\n",
    "    \n",
    "    data['sess_start_time'] = pd.to_datetime(data['sess_start_time'], format=\"%d/%m/%Y %H:%M\")\n",
    "    data['sess_end_time'] = pd.to_datetime(data['sess_end_time'], format=\"%d/%m/%Y %H:%M\")\n",
    "    \n",
    "    # Difference in mins between the end date and start date\n",
    "    data['sess_mins'] = data[['sess_start_time','sess_end_time']].apply(lambda x: int(divmod((x[1]-x[0]).total_seconds() , 60)[0] ),axis=1 )\n",
    "    data['sess_mins'] = data['sess_mins'].apply(lambda x: 100 if(x>28) else x)\n",
    "    \n",
    "    # start date hour feature\n",
    "    data['sess_hour'] = data['sess_temp'].apply(lambda x: x.tm_hour)\n",
    "    data.drop(['sess_temp'],axis=1,inplace=True)\n",
    "    \n",
    "    # D product list \n",
    "    data['sess_items']=data['ProductList'].apply(lambda x: list_items(x))\n",
    "    \n",
    "    # D code feature which is explained above.\n",
    "    data['D'] = data['sess_items'].apply(lambda x: items_new_list(x))\n",
    "    \n",
    "    return data\n"
   ]
  },
  {
   "cell_type": "code",
   "execution_count": 20,
   "metadata": {},
   "outputs": [],
   "source": [
    "dtrain = train.copy()\n",
    "dtest = test.copy()"
   ]
  },
  {
   "cell_type": "code",
   "execution_count": 21,
   "metadata": {},
   "outputs": [],
   "source": [
    "# Apply the preprocessing\n",
    "dtrain = preprocessing_data(dtrain)\n",
    "dtest = preprocessing_data(dtest)"
   ]
  },
  {
   "cell_type": "code",
   "execution_count": 22,
   "metadata": {},
   "outputs": [
    {
     "data": {
      "text/plain": [
       "((10500, 21), (4500, 20))"
      ]
     },
     "execution_count": 22,
     "metadata": {},
     "output_type": "execute_result"
    }
   ],
   "source": [
    "dtrain.shape,dtest.shape"
   ]
  },
  {
   "cell_type": "code",
   "execution_count": 23,
   "metadata": {},
   "outputs": [
    {
     "data": {
      "text/plain": [
       "Index(['session_id', 'startTime', 'endTime', 'ProductList', 'gender',\n",
       "       'No_of_products', 'A', 'B', 'C', 'sess_date', 'sess_start_date',\n",
       "       'sess_end_date', 'sess_start_time', 'sess_end_time', 'sess_day',\n",
       "       'sess_month', 'sess_year', 'sess_mins', 'sess_hour', 'sess_items', 'D'],\n",
       "      dtype='object')"
      ]
     },
     "execution_count": 23,
     "metadata": {},
     "output_type": "execute_result"
    }
   ],
   "source": [
    "dtrain.columns"
   ]
  },
  {
   "cell_type": "markdown",
   "metadata": {},
   "source": [
    "# Features"
   ]
  },
  {
   "cell_type": "code",
   "execution_count": 25,
   "metadata": {},
   "outputs": [
    {
     "data": {
      "text/plain": [
       "['session_id',\n",
       " 'No_of_products',\n",
       " 'sess_end_date',\n",
       " 'D',\n",
       " 'sess_date',\n",
       " 'B',\n",
       " 'sess_month',\n",
       " 'C',\n",
       " 'sess_hour',\n",
       " 'A']"
      ]
     },
     "execution_count": 25,
     "metadata": {},
     "output_type": "execute_result"
    }
   ],
   "source": [
    "features = list(set(dtrain.columns)-set(['startTime','endTime','ProductList','gender',\n",
    "                                        'sess_start_time','sess_end_time','sess_items','sess_year','sess_day','sess_start_date','sess_mins']))\n",
    "target = 'gender'\n",
    "\n",
    "features"
   ]
  },
  {
   "cell_type": "code",
   "execution_count": 26,
   "metadata": {},
   "outputs": [
    {
     "data": {
      "text/plain": [
       "session_id        object\n",
       "No_of_products     int64\n",
       "sess_end_date     object\n",
       "D                 object\n",
       "sess_date         object\n",
       "B                 object\n",
       "sess_month         int64\n",
       "C                 object\n",
       "sess_hour          int64\n",
       "A                 object\n",
       "dtype: object"
      ]
     },
     "execution_count": 26,
     "metadata": {},
     "output_type": "execute_result"
    }
   ],
   "source": [
    "dtrain[features].dtypes"
   ]
  },
  {
   "cell_type": "markdown",
   "metadata": {},
   "source": [
    "# Label Encoding"
   ]
  },
  {
   "cell_type": "code",
   "execution_count": 27,
   "metadata": {},
   "outputs": [],
   "source": [
    "cat_feat  = ['A','B','C','D','sess_date','sess_start_date','sess_end_date']\n",
    "\n",
    "le = LabelEncoder()\n",
    "le_target = LabelEncoder()\n",
    "le_sess = LabelEncoder()\n",
    "le_classes = {}\n",
    "\n",
    "dtrain[target] = le_target.fit_transform(dtrain[target])\n",
    "le_classes[target] =  le_target\n",
    "\n",
    "df = pd.concat([dtrain,dtest])\n",
    "\n",
    "df['session_id'] = le_sess.fit_transform(df['session_id'])\n",
    "\n",
    "for i in cat_feat:\n",
    "    df[i] = le.fit_transform(df[i])\n",
    "    le_classes[i] = le\n",
    "\n",
    "dtrain = df[df[target].notnull()]\n",
    "dtest =  df[df[target].isnull()]\n",
    "\n",
    "del df"
   ]
  },
  {
   "cell_type": "code",
   "execution_count": 29,
   "metadata": {},
   "outputs": [],
   "source": [
    "def baseliner(train, features, target, cv=3, metric='accuracy'):\n",
    "    \"\"\"\n",
    "    Function for baselining Models which return CV Score, Train Score, Valid Score\n",
    "    \"\"\"\n",
    "    print(\"Baseliner Models\\n\")\n",
    "    eval_dict = {}\n",
    "    models = [lgb.LGBMClassifier(), xgb.XGBClassifier(), cat.CatBoostClassifier(verbose=0), GradientBoostingClassifier(), LogisticRegression(), \n",
    "              RandomForestClassifier(), DecisionTreeClassifier(), AdaBoostClassifier(),ExtraTreeClassifier(),ExtraTreesClassifier(),\n",
    "              KNeighborsClassifier(),BaggingClassifier()\n",
    "             ]\n",
    "    print(\"Model Name \\t |   CV\")\n",
    "    print(\"--\" * 50)\n",
    "\n",
    "    for index, model in enumerate(models, 0):\n",
    "        model_name = str(model).split(\"(\")[0]\n",
    "        eval_dict[model_name] = {}\n",
    "\n",
    "        results = cross_val_score(model, train[features], train[target], cv=cv, scoring=metric)\n",
    "        eval_dict[model_name]['cv'] = results.mean()\n",
    "\n",
    "        print(\"%s \\t | %.4f \\t\" % (\n",
    "            model_name[:12], eval_dict[model_name]['cv']))"
   ]
  },
  {
   "cell_type": "code",
   "execution_count": 30,
   "metadata": {},
   "outputs": [
    {
     "name": "stdout",
     "output_type": "stream",
     "text": [
      "Baseliner Models\n",
      "\n",
      "Model Name \t |   CV\n",
      "----------------------------------------------------------------------------------------------------\n",
      "LGBMClassifi \t | 0.8910 \t\n",
      "XGBClassifie \t | 0.9058 \t\n",
      "<catboost.co \t | 0.8877 \t\n",
      "GradientBoos \t | 0.8847 \t\n",
      "LogisticRegr \t | 0.7781 \t\n",
      "RandomForest \t | 0.8926 \t\n",
      "DecisionTree \t | 0.8541 \t\n",
      "AdaBoostClas \t | 0.8767 \t\n",
      "ExtraTreeCla \t | 0.8140 \t\n",
      "ExtraTreesCl \t | 0.8824 \t\n",
      "KNeighborsCl \t | 0.8173 \t\n",
      "BaggingClass \t | 0.8885 \t\n"
     ]
    }
   ],
   "source": [
    "baseliner(dtrain,features,target)"
   ]
  },
  {
   "cell_type": "code",
   "execution_count": 31,
   "metadata": {},
   "outputs": [],
   "source": [
    "def fit_model(model,dtrain,features,target,dtest):\n",
    "    model.fit(dtrain[features],dtrain[target])\n",
    "    y_pred_test = model.predict(dtest[features])\n",
    "    dtest['gender'] = y_pred_test\n",
    "    dtest['gender'] = dtest['gender'].astype(int)\n",
    "    return dtest"
   ]
  },
  {
   "cell_type": "code",
   "execution_count": 32,
   "metadata": {},
   "outputs": [],
   "source": [
    "model = xgb.XGBClassifier(random_state=7)\n",
    "dtest = fit_model(model,dtrain,features,target,dtest)\n",
    "\n",
    "dtest['gender'] = le_target.inverse_transform(dtest['gender'])\n",
    "dtest['session_id'] = le_sess.inverse_transform(dtest['session_id'])\n",
    "\n",
    "dtest[['session_id','gender']].to_csv(\"submissions/xgb_model_final_submisison.csv\",index=False)"
   ]
  },
  {
   "cell_type": "code",
   "execution_count": 33,
   "metadata": {},
   "outputs": [
    {
     "data": {
      "text/html": [
       "<div>\n",
       "<style scoped>\n",
       "    .dataframe tbody tr th:only-of-type {\n",
       "        vertical-align: middle;\n",
       "    }\n",
       "\n",
       "    .dataframe tbody tr th {\n",
       "        vertical-align: top;\n",
       "    }\n",
       "\n",
       "    .dataframe thead th {\n",
       "        text-align: right;\n",
       "    }\n",
       "</style>\n",
       "<table border=\"1\" class=\"dataframe\">\n",
       "  <thead>\n",
       "    <tr style=\"text-align: right;\">\n",
       "      <th></th>\n",
       "      <th>session_id</th>\n",
       "      <th>gender</th>\n",
       "    </tr>\n",
       "  </thead>\n",
       "  <tbody>\n",
       "    <tr>\n",
       "      <td>0</td>\n",
       "      <td>u12112</td>\n",
       "      <td>female</td>\n",
       "    </tr>\n",
       "    <tr>\n",
       "      <td>1</td>\n",
       "      <td>u19725</td>\n",
       "      <td>female</td>\n",
       "    </tr>\n",
       "    <tr>\n",
       "      <td>2</td>\n",
       "      <td>u11795</td>\n",
       "      <td>female</td>\n",
       "    </tr>\n",
       "    <tr>\n",
       "      <td>3</td>\n",
       "      <td>u22639</td>\n",
       "      <td>male</td>\n",
       "    </tr>\n",
       "    <tr>\n",
       "      <td>4</td>\n",
       "      <td>u18034</td>\n",
       "      <td>male</td>\n",
       "    </tr>\n",
       "  </tbody>\n",
       "</table>\n",
       "</div>"
      ],
      "text/plain": [
       "  session_id  gender\n",
       "0     u12112  female\n",
       "1     u19725  female\n",
       "2     u11795  female\n",
       "3     u22639    male\n",
       "4     u18034    male"
      ]
     },
     "execution_count": 33,
     "metadata": {},
     "output_type": "execute_result"
    }
   ],
   "source": [
    "# Final Submission\n",
    "dtest[['session_id','gender']].head()"
   ]
  },
  {
   "cell_type": "markdown",
   "metadata": {},
   "source": [
    "## Few Observations:\n",
    "1. Ensembling approaching did not improve the score.\n",
    "2. Stacking the models did not improve the score much, but it generalised the results of the models."
   ]
  },
  {
   "cell_type": "code",
   "execution_count": null,
   "metadata": {},
   "outputs": [],
   "source": []
  }
 ],
 "metadata": {
  "kernelspec": {
   "display_name": "Python 3",
   "language": "python",
   "name": "python3"
  },
  "language_info": {
   "codemirror_mode": {
    "name": "ipython",
    "version": 3
   },
   "file_extension": ".py",
   "mimetype": "text/x-python",
   "name": "python",
   "nbconvert_exporter": "python",
   "pygments_lexer": "ipython3",
   "version": "3.8.3"
  }
 },
 "nbformat": 4,
 "nbformat_minor": 2
}
